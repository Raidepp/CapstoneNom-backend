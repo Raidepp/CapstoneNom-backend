{
  "nbformat": 4,
  "nbformat_minor": 0,
  "metadata": {
    "colab": {
      "name": "Nom_ModelUpload.ipynb",
      "provenance": [],
      "mount_file_id": "1UDaoqPfH4F_gru9opMEotjANePXEIsN-",
      "authorship_tag": "ABX9TyMKfER1bOc3U8mUSChx/80J",
      "include_colab_link": true
    },
    "kernelspec": {
      "name": "python3",
      "display_name": "Python 3"
    },
    "language_info": {
      "name": "python"
    }
  },
  "cells": [
    {
      "cell_type": "markdown",
      "metadata": {
        "id": "view-in-github",
        "colab_type": "text"
      },
      "source": [
        "<a href=\"https://colab.research.google.com/github/Raidepp/CapstoneNom-backend/blob/main/Nom_ModelUpload.ipynb\" target=\"_parent\"><img src=\"https://colab.research.google.com/assets/colab-badge.svg\" alt=\"Open In Colab\"/></a>"
      ]
    },
    {
      "cell_type": "code",
      "execution_count": 1,
      "metadata": {
        "id": "CVUDpfL8-7ib"
      },
      "outputs": [],
      "source": [
        "import os\n",
        "import numpy as np\n",
        "import pandas as pd\n",
        "import matplotlib.pyplot as plt\n",
        "import tensorflow as tf\n",
        "\n",
        "from tensorflow.keras.preprocessing import image"
      ]
    },
    {
      "cell_type": "code",
      "source": [
        "# Mount Google Drive"
      ],
      "metadata": {
        "id": "hmhxr7Qn-_6L"
      },
      "execution_count": null,
      "outputs": []
    },
    {
      "cell_type": "code",
      "source": [
        "\n",
        "%%time\n",
        "tf.keras.backend.clear_session()\n",
        "model = tf.keras.models.load_model(\"/content/drive/MyDrive/Capstone_Related/savedmodel_icv3_11class\", compile=False)\n",
        "\n",
        "print(\"Model information: \", model)"
      ],
      "metadata": {
        "colab": {
          "base_uri": "https://localhost:8080/"
        },
        "id": "w31xJsJ9-_8e",
        "outputId": "674d1c51-e359-41fb-d6b7-1e66bf9c99ae"
      },
      "execution_count": 3,
      "outputs": [
        {
          "output_type": "stream",
          "name": "stdout",
          "text": [
            "Model information:  <keras.engine.functional.Functional object at 0x7fe5552164d0>\n",
            "CPU times: user 13 s, sys: 973 ms, total: 14 s\n",
            "Wall time: 16.5 s\n"
          ]
        }
      ]
    },
    {
      "cell_type": "code",
      "source": [
        ""
      ],
      "metadata": {
        "id": "voKIgE0D-_-O"
      },
      "execution_count": null,
      "outputs": []
    },
    {
      "cell_type": "code",
      "source": [
        ""
      ],
      "metadata": {
        "id": "I2xHmI1P_AAd"
      },
      "execution_count": null,
      "outputs": []
    },
    {
      "cell_type": "code",
      "source": [
        ""
      ],
      "metadata": {
        "id": "C4sRRfbg_ACf"
      },
      "execution_count": null,
      "outputs": []
    },
    {
      "cell_type": "code",
      "source": [
        ""
      ],
      "metadata": {
        "id": "wHDj1vgD_AEs"
      },
      "execution_count": null,
      "outputs": []
    },
    {
      "cell_type": "code",
      "source": [
        ""
      ],
      "metadata": {
        "id": "zQs_M9Qu_AG6"
      },
      "execution_count": null,
      "outputs": []
    },
    {
      "cell_type": "code",
      "source": [
        ""
      ],
      "metadata": {
        "id": "T6MYEBX2_AND"
      },
      "execution_count": null,
      "outputs": []
    }
  ]
}